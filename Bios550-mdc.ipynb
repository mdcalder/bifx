{
 "cells": [
  {
   "cell_type": "markdown",
   "metadata": {},
   "source": [
    "# Problem 1:  Username\n",
    "- Write a function named **get_user_name** that asks the user for their name with the phrase, *“Greetings, what is your name?”*\n",
    "- The function should store the user’s response in a variable name, print “Welcome to Bioinformatics, <name>!” and then return name. (Python input function)"
   ]
  },
  {
   "cell_type": "code",
   "execution_count": 133,
   "metadata": {
    "scrolled": true
   },
   "outputs": [
    {
     "name": "stdout",
     "output_type": "stream",
     "text": [
      "Greetings, what it your name?mdc\n",
      "Welcome to Bioinformatics, mdc !\n"
     ]
    }
   ],
   "source": [
    "get_user_name = input(\"Greetings, what it your name?\")\n",
    "print(\"Welcome to Bioinformatics,\", get_user_name,\"!\")"
   ]
  },
  {
   "cell_type": "markdown",
   "metadata": {},
   "source": [
    "# Problem 2: Area\n",
    "- Write a function named **calculate_circle_area** that takes **radius** as an argument.\n",
    "- This function should use that radius to calculate the area of a circle with that radius and return this value.\n",
    "- Hint: you will need to import either the math or numpy library to get the value of π!"
   ]
  },
  {
   "cell_type": "code",
   "execution_count": 43,
   "metadata": {},
   "outputs": [
    {
     "name": "stdout",
     "output_type": "stream",
     "text": [
      "Area of Circle with a Radius of 5 = 78.53981633974483\n"
     ]
    }
   ],
   "source": [
    "import math\n",
    "\n",
    "def calculate_circle_area(radius):\n",
    "    area = math.pi*radius**2\n",
    "    return area\n",
    "\n",
    "print('Area of Circle with a Radius of 5 =', calculate_circle_area(5))"
   ]
  },
  {
   "cell_type": "markdown",
   "metadata": {},
   "source": [
    "# Problem 3: Word Search\n",
    "- Write a function named **letter_word_search** that takes a string text and a char letter as arguments\n",
    "- This function should search text for all words that begin with letter and should return these values in a list\n",
    "    - Bonus: Check whether letter consists of a single character rather than a number or multi-character string!"
   ]
  },
  {
   "cell_type": "code",
   "execution_count": 158,
   "metadata": {},
   "outputs": [],
   "source": [
    "words = ['Lorem', 'ipsum', 'dolor', 'sit', 'amet', 'consectetur', 'adipiscing', 'elit']"
   ]
  },
  {
   "cell_type": "code",
   "execution_count": 159,
   "metadata": {},
   "outputs": [],
   "source": [
    "def letter_word_search(name_list, letter):\n",
    "    output_list = []\n",
    "    for name in name_list:\n",
    "        if name[0] == letter:\n",
    "            output_list.append(name)\n",
    "            \n",
    "    return output_list"
   ]
  },
  {
   "cell_type": "code",
   "execution_count": 160,
   "metadata": {
    "scrolled": true
   },
   "outputs": [
    {
     "data": {
      "text/plain": [
       "['amet', 'adipiscing']"
      ]
     },
     "execution_count": 160,
     "metadata": {},
     "output_type": "execute_result"
    }
   ],
   "source": [
    "letter_word_search(words, 'a')"
   ]
  },
  {
   "cell_type": "code",
   "execution_count": 161,
   "metadata": {},
   "outputs": [
    {
     "data": {
      "text/plain": [
       "[]"
      ]
     },
     "execution_count": 161,
     "metadata": {},
     "output_type": "execute_result"
    }
   ],
   "source": [
    "letter_word_search(words, 1)"
   ]
  },
  {
   "cell_type": "code",
   "execution_count": 165,
   "metadata": {},
   "outputs": [
    {
     "data": {
      "text/plain": [
       "str"
      ]
     },
     "execution_count": 165,
     "metadata": {},
     "output_type": "execute_result"
    }
   ],
   "source": [
    "type(words[0])"
   ]
  },
  {
   "cell_type": "markdown",
   "metadata": {},
   "source": [
    "# Problem 4: Number Guessing Game\n",
    "- Write a function named **number_guessing_game** that selects a random number target between **0 and 36 (inclusive)**.\n",
    "- This function should then prompt the user for input guess with the statement, “I’m thinking of a number between 0 and 36. Can you guess what it is?” \n",
    "- The user’s input guess should be compared to the target. If they guessed correctly, the program should print, “You guessed <guess>. My number was <target>. Congrats!” to terminal.\n",
    "- If they guessed incorrectly, the function should print, “You guessed <guess>. My number was <target>. Sorry, try again!”!"
   ]
  },
  {
   "cell_type": "code",
   "execution_count": 168,
   "metadata": {},
   "outputs": [],
   "source": [
    "#test\n",
    "import random\n",
    "\n",
    "def guess_number(a, b):\n",
    "    target = random.randint(a,b+1)\n",
    "    guess = input(\"I'm thinking of a number between \" + str(a) + \" and \" + str(b) + \".\" + \" Can you guess what it is?\" )\n",
    "    if (str(target) == guess):\n",
    "        print(\"You guessed\" + str(guess))\n",
    "        return True\n",
    "    else:\n",
    "        print(\"Sorry, that's not it\")\n",
    "        return False"
   ]
  },
  {
   "cell_type": "code",
   "execution_count": 189,
   "metadata": {},
   "outputs": [],
   "source": [
    "#test\n",
    "import random\n",
    "\n",
    "def guess_number(a, b):\n",
    "    target = random.randint(a,b)\n",
    "    guess = input(\"I'm thinking of a number between \" + str(a) + \" and \" + str(b) + \".\" + \" Can you guess what it is?\" )\n",
    "    if (str(target) == guess):\n",
    "        print(\"You guessed \" + str(guess) + \". My number was\" + str(target) + \". Congrats!\")\n",
    "        return True\n",
    "    else:\n",
    "        print(\"You guessed \" + str(guess)+ \". My number was\" + str(target)+ \". Sorry, try again!\")\n",
    "        return False\n"
   ]
  },
  {
   "cell_type": "code",
   "execution_count": 190,
   "metadata": {},
   "outputs": [
    {
     "name": "stdout",
     "output_type": "stream",
     "text": [
      "I'm thinking of a number between 0 and 1. Can you guess what it is?1\n",
      "You guessed 1. My number was1. Congrats!\n"
     ]
    }
   ],
   "source": [
    "correct = guess_number(0,1)\n",
    "\n",
    "#if(correct):\n",
    "    #print(\"You guessed\" + str(target) + \".\" + \"My number was\" +str(target)+ \".\" + \"Congrats!\")\n",
    "#else:\n",
    "    #print(\"You guessed\" + \".\" + \"My number was\" + \".\" + \"Sorry, try again!\")"
   ]
  },
  {
   "cell_type": "markdown",
   "metadata": {},
   "source": [
    "****"
   ]
  },
  {
   "cell_type": "code",
   "execution_count": 139,
   "metadata": {},
   "outputs": [],
   "source": [
    "import random\n",
    "\n",
    "def guess_number(a, b):\n",
    "    target = random.randint(a,b+1)\n",
    "    guess = input(\"I'm thinking of a number between \" + str(a) + \" and \" + str(b) + \".\" + \" Can you guess what it is?\" )\n",
    "    if (target == guess):\n",
    "        print(\"You guessed\" + str(guess))\n",
    "        return True\n",
    "    else:\n",
    "        print(\"Sorry, that's not it\")\n",
    "        return False"
   ]
  },
  {
   "cell_type": "code",
   "execution_count": 155,
   "metadata": {},
   "outputs": [
    {
     "ename": "KeyboardInterrupt",
     "evalue": "Interrupted by user",
     "output_type": "error",
     "traceback": [
      "\u001b[0;31m---------------------------------------------------------------------------\u001b[0m",
      "\u001b[0;31mKeyboardInterrupt\u001b[0m                         Traceback (most recent call last)",
      "\u001b[0;32m<ipython-input-155-96bf958e4250>\u001b[0m in \u001b[0;36m<module>\u001b[0;34m\u001b[0m\n\u001b[0;32m----> 1\u001b[0;31m \u001b[0mcorrect\u001b[0m \u001b[0;34m=\u001b[0m \u001b[0mguess_number\u001b[0m\u001b[0;34m(\u001b[0m\u001b[0;36m0\u001b[0m\u001b[0;34m,\u001b[0m\u001b[0;36m36\u001b[0m\u001b[0;34m)\u001b[0m\u001b[0;34m\u001b[0m\u001b[0;34m\u001b[0m\u001b[0m\n\u001b[0m\u001b[1;32m      2\u001b[0m \u001b[0;34m\u001b[0m\u001b[0m\n\u001b[1;32m      3\u001b[0m \u001b[0;32mif\u001b[0m\u001b[0;34m(\u001b[0m\u001b[0mcorrect\u001b[0m\u001b[0;34m)\u001b[0m\u001b[0;34m:\u001b[0m\u001b[0;34m\u001b[0m\u001b[0;34m\u001b[0m\u001b[0m\n\u001b[1;32m      4\u001b[0m     \u001b[0mprint\u001b[0m\u001b[0;34m(\u001b[0m\u001b[0;34m\"You guessed\"\u001b[0m \u001b[0;34m+\u001b[0m \u001b[0mstr\u001b[0m\u001b[0;34m(\u001b[0m\u001b[0mguess\u001b[0m\u001b[0;34m)\u001b[0m \u001b[0;34m+\u001b[0m \u001b[0;34m\".\"\u001b[0m \u001b[0;34m+\u001b[0m \u001b[0;34m\"My number was\"\u001b[0m \u001b[0;34m+\u001b[0m \u001b[0mstr\u001b[0m\u001b[0;34m(\u001b[0m\u001b[0mtarget\u001b[0m\u001b[0;34m)\u001b[0m \u001b[0;34m+\u001b[0m \u001b[0;34m\".\"\u001b[0m \u001b[0;34m+\u001b[0m \u001b[0;34m\"Congrats\"\u001b[0m\u001b[0;34m)\u001b[0m\u001b[0;34m\u001b[0m\u001b[0;34m\u001b[0m\u001b[0m\n\u001b[1;32m      5\u001b[0m \u001b[0;32melse\u001b[0m\u001b[0;34m:\u001b[0m\u001b[0;34m\u001b[0m\u001b[0;34m\u001b[0m\u001b[0m\n",
      "\u001b[0;32m<ipython-input-146-b8e23a192536>\u001b[0m in \u001b[0;36mguess_number\u001b[0;34m(a, b)\u001b[0m\n\u001b[1;32m      3\u001b[0m \u001b[0;32mdef\u001b[0m \u001b[0mguess_number\u001b[0m\u001b[0;34m(\u001b[0m\u001b[0ma\u001b[0m\u001b[0;34m,\u001b[0m \u001b[0mb\u001b[0m\u001b[0;34m)\u001b[0m\u001b[0;34m:\u001b[0m\u001b[0;34m\u001b[0m\u001b[0;34m\u001b[0m\u001b[0m\n\u001b[1;32m      4\u001b[0m     \u001b[0mtarget\u001b[0m \u001b[0;34m=\u001b[0m \u001b[0mrandom\u001b[0m\u001b[0;34m.\u001b[0m\u001b[0mrandint\u001b[0m\u001b[0;34m(\u001b[0m\u001b[0ma\u001b[0m\u001b[0;34m,\u001b[0m\u001b[0mb\u001b[0m\u001b[0;34m+\u001b[0m\u001b[0;36m1\u001b[0m\u001b[0;34m)\u001b[0m\u001b[0;34m\u001b[0m\u001b[0;34m\u001b[0m\u001b[0m\n\u001b[0;32m----> 5\u001b[0;31m     \u001b[0mguess\u001b[0m \u001b[0;34m=\u001b[0m \u001b[0minput\u001b[0m\u001b[0;34m(\u001b[0m\u001b[0;34m\"I'm thinking of a number between \"\u001b[0m \u001b[0;34m+\u001b[0m \u001b[0mstr\u001b[0m\u001b[0;34m(\u001b[0m\u001b[0ma\u001b[0m\u001b[0;34m)\u001b[0m \u001b[0;34m+\u001b[0m \u001b[0;34m\" and \"\u001b[0m \u001b[0;34m+\u001b[0m \u001b[0mstr\u001b[0m\u001b[0;34m(\u001b[0m\u001b[0mb\u001b[0m\u001b[0;34m)\u001b[0m \u001b[0;34m+\u001b[0m \u001b[0;34m\".\"\u001b[0m \u001b[0;34m+\u001b[0m \u001b[0;34m\" Can you guess what it is?\"\u001b[0m \u001b[0;34m)\u001b[0m\u001b[0;34m\u001b[0m\u001b[0;34m\u001b[0m\u001b[0m\n\u001b[0m\u001b[1;32m      6\u001b[0m     \u001b[0;32mif\u001b[0m \u001b[0;34m(\u001b[0m\u001b[0mtarget\u001b[0m \u001b[0;34m==\u001b[0m \u001b[0mguess\u001b[0m\u001b[0;34m)\u001b[0m\u001b[0;34m:\u001b[0m\u001b[0;34m\u001b[0m\u001b[0;34m\u001b[0m\u001b[0m\n\u001b[1;32m      7\u001b[0m         \u001b[0mprint\u001b[0m\u001b[0;34m(\u001b[0m\u001b[0;34m\"You guessed\"\u001b[0m \u001b[0;34m+\u001b[0m \u001b[0mstr\u001b[0m\u001b[0;34m(\u001b[0m\u001b[0mguess\u001b[0m\u001b[0;34m)\u001b[0m\u001b[0;34m)\u001b[0m\u001b[0;34m\u001b[0m\u001b[0;34m\u001b[0m\u001b[0m\n",
      "\u001b[0;32m/opt/anaconda3/lib/python3.8/site-packages/ipykernel/kernelbase.py\u001b[0m in \u001b[0;36mraw_input\u001b[0;34m(self, prompt)\u001b[0m\n\u001b[1;32m    858\u001b[0m                 \u001b[0;34m\"raw_input was called, but this frontend does not support input requests.\"\u001b[0m\u001b[0;34m\u001b[0m\u001b[0;34m\u001b[0m\u001b[0m\n\u001b[1;32m    859\u001b[0m             )\n\u001b[0;32m--> 860\u001b[0;31m         return self._input_request(str(prompt),\n\u001b[0m\u001b[1;32m    861\u001b[0m             \u001b[0mself\u001b[0m\u001b[0;34m.\u001b[0m\u001b[0m_parent_ident\u001b[0m\u001b[0;34m,\u001b[0m\u001b[0;34m\u001b[0m\u001b[0;34m\u001b[0m\u001b[0m\n\u001b[1;32m    862\u001b[0m             \u001b[0mself\u001b[0m\u001b[0;34m.\u001b[0m\u001b[0m_parent_header\u001b[0m\u001b[0;34m,\u001b[0m\u001b[0;34m\u001b[0m\u001b[0;34m\u001b[0m\u001b[0m\n",
      "\u001b[0;32m/opt/anaconda3/lib/python3.8/site-packages/ipykernel/kernelbase.py\u001b[0m in \u001b[0;36m_input_request\u001b[0;34m(self, prompt, ident, parent, password)\u001b[0m\n\u001b[1;32m    902\u001b[0m             \u001b[0;32mexcept\u001b[0m \u001b[0mKeyboardInterrupt\u001b[0m\u001b[0;34m:\u001b[0m\u001b[0;34m\u001b[0m\u001b[0;34m\u001b[0m\u001b[0m\n\u001b[1;32m    903\u001b[0m                 \u001b[0;31m# re-raise KeyboardInterrupt, to truncate traceback\u001b[0m\u001b[0;34m\u001b[0m\u001b[0;34m\u001b[0m\u001b[0;34m\u001b[0m\u001b[0m\n\u001b[0;32m--> 904\u001b[0;31m                 \u001b[0;32mraise\u001b[0m \u001b[0mKeyboardInterrupt\u001b[0m\u001b[0;34m(\u001b[0m\u001b[0;34m\"Interrupted by user\"\u001b[0m\u001b[0;34m)\u001b[0m \u001b[0;32mfrom\u001b[0m \u001b[0;32mNone\u001b[0m\u001b[0;34m\u001b[0m\u001b[0;34m\u001b[0m\u001b[0m\n\u001b[0m\u001b[1;32m    905\u001b[0m             \u001b[0;32mexcept\u001b[0m \u001b[0mException\u001b[0m \u001b[0;32mas\u001b[0m \u001b[0me\u001b[0m\u001b[0;34m:\u001b[0m\u001b[0;34m\u001b[0m\u001b[0;34m\u001b[0m\u001b[0m\n\u001b[1;32m    906\u001b[0m                 \u001b[0mself\u001b[0m\u001b[0;34m.\u001b[0m\u001b[0mlog\u001b[0m\u001b[0;34m.\u001b[0m\u001b[0mwarning\u001b[0m\u001b[0;34m(\u001b[0m\u001b[0;34m\"Invalid Message:\"\u001b[0m\u001b[0;34m,\u001b[0m \u001b[0mexc_info\u001b[0m\u001b[0;34m=\u001b[0m\u001b[0;32mTrue\u001b[0m\u001b[0;34m)\u001b[0m\u001b[0;34m\u001b[0m\u001b[0;34m\u001b[0m\u001b[0m\n",
      "\u001b[0;31mKeyboardInterrupt\u001b[0m: Interrupted by user"
     ]
    }
   ],
   "source": [
    "correct = guess_number(0,36)\n",
    "\n",
    "if(correct):\n",
    "    print(\"You guessed\" + str(guess) + \".\" + \"My number was\" + str(target) + \".\" + \"Congrats\")\n",
    "else:\n",
    "    print(\"You guessed\" + str(guess) + \".\" + \"My number was\" + str(target) + \".\" + \" Sorry, try again!\")"
   ]
  },
  {
   "cell_type": "markdown",
   "metadata": {},
   "source": [
    "***"
   ]
  },
  {
   "cell_type": "code",
   "execution_count": 136,
   "metadata": {},
   "outputs": [
    {
     "name": "stdout",
     "output_type": "stream",
     "text": [
      "I'm thinking of a number1\n",
      "Sorry, that's not it\n",
      "You win a prize!\n"
     ]
    }
   ],
   "source": [
    "correct = str(guess_number(0,1))\n",
    "\n",
    "if(correct):\n",
    "    print(\"You win a prize!\")\n",
    "else:\n",
    "    print(\"Maybe next time!\")"
   ]
  },
  {
   "cell_type": "markdown",
   "metadata": {},
   "source": [
    "### Problem 5: Approximating π\n",
    "- The value of pi can be calculated using a Monte Carlo simulation by **randomly** n points within a unit square (i.e. a square with side length = 1) and by determining whether those points would land within an inscribed unit circle (i.e. a circle with diameter = 1; see illustration).\n",
    "- Given the relationship between the area of a unit square (1) and the area of a unit circle (π/4 ), we know that: **π=4*  (number of points falling within circle)/n**\n",
    "- Write a function named **simulate_pi** that takes an integer n as an argument. This function should randomly select n points within a unit square (i.e. x and y coordinates between 0 and 1).\n",
    "- This function should then count the number of points that fall within the circle (i.e. the distance between the center of the circle (0.5, 0.5) and the randomly selected point ≤ 0.5).\n",
    "- The function should return an estimation of π using the equation given above."
   ]
  },
  {
   "cell_type": "code",
   "execution_count": 201,
   "metadata": {},
   "outputs": [],
   "source": [
    "import random\n",
    "import math\n",
    "#length = 1; diameter = 1\n",
    "#π=4* (number of points falling within circle)/n\n",
    "#fxn: simulate_pi = random select 0,1\n",
    "def simulate_pi(n):\n",
    "    count = 0 \n",
    "    for i in range(0,n):\n",
    "        x = random.random()\n",
    "        y = random.random()\n",
    "        d = math.dist([x,y],[0.5,0.5])\n",
    "        if(d <= 0.5):\n",
    "            count = count + 1\n",
    "    return 4*count/n"
   ]
  },
  {
   "cell_type": "code",
   "execution_count": 202,
   "metadata": {},
   "outputs": [
    {
     "data": {
      "text/plain": [
       "3.13252"
      ]
     },
     "execution_count": 202,
     "metadata": {},
     "output_type": "execute_result"
    }
   ],
   "source": [
    "simulate_pi(200000)"
   ]
  },
  {
   "cell_type": "code",
   "execution_count": null,
   "metadata": {},
   "outputs": [],
   "source": [
    "import random\n",
    "\n",
    "INTERVAL= 100\n",
    "  \n",
    "circle_points= 0\n",
    "square_points= 0\n",
    "  \n",
    "# Total Random numbers generated= possible x\n",
    "# values* possible y values\n",
    "for i in range(INTERVAL**2):\n",
    "  \n",
    "    # Randomly generated x and y values from a\n",
    "    # uniform distribution\n",
    "    # Range of x and y values is -1 to 1\n",
    "    rand_x= random.uniform(-1, 1)\n",
    "    rand_y= random.uniform(-1, 1)\n",
    "  \n",
    "    # Distance between (x, y) from the origin\n",
    "    origin_dist= rand_x**2 + rand_y**2\n",
    "  \n",
    "    # Checking if (x, y) lies inside the circle\n",
    "    if origin_dist<= 1:\n",
    "        circle_points+= 1\n",
    "  \n",
    "    square_points+= 1\n",
    "  \n",
    "    # Estimating value of pi,\n",
    "    # pi= 4*(no. of points generated inside the \n",
    "    # circle)/ (no. of points generated inside the square)\n",
    "    pi = 4* circle_points/ square_points\n",
    "  \n",
    "## print(rand_x, rand_y, circle_points, square_points, \"-\", pi)\n",
    "##    print(\"\\n\")\n",
    "  \n",
    "print(\"Final Estimation of π =\", pi)    "
   ]
  }
 ],
 "metadata": {
  "kernelspec": {
   "display_name": "Python 3",
   "language": "python",
   "name": "python3"
  },
  "language_info": {
   "codemirror_mode": {
    "name": "ipython",
    "version": 3
   },
   "file_extension": ".py",
   "mimetype": "text/x-python",
   "name": "python",
   "nbconvert_exporter": "python",
   "pygments_lexer": "ipython3",
   "version": "3.8.5"
  }
 },
 "nbformat": 4,
 "nbformat_minor": 4
}
