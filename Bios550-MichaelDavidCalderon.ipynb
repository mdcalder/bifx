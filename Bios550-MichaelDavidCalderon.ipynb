{
 "cells": [
  {
   "attachments": {},
   "cell_type": "markdown",
   "metadata": {},
   "source": [
    "### BIOS 550 Programming Assignment\n",
    "Michael-David Calderon <br> April 29, 2022 <br> Spring 2022"
   ]
  },
  {
   "cell_type": "markdown",
   "metadata": {},
   "source": [
    "# Problem 1:  Username\n",
    "- Write a function named **get_user_name** that asks the user for their name with the phrase, *“Greetings, what is your name?”*\n",
    "- The function should store the user’s response in a variable name, print “Welcome to Bioinformatics, <name>!” and then return name. (Python input function)"
   ]
  },
  {
   "cell_type": "code",
   "execution_count": 33,
   "metadata": {
    "scrolled": true
   },
   "outputs": [
    {
     "name": "stdout",
     "output_type": "stream",
     "text": [
      "Greetings, what it your name?mdc\n",
      "Welcome to Bioinformatics, mdc !\n"
     ]
    }
   ],
   "source": [
    "get_user_name = input(\"Greetings, what it your name?\")\n",
    "print(\"Welcome to Bioinformatics,\", get_user_name,\"!\")"
   ]
  },
  {
   "cell_type": "markdown",
   "metadata": {},
   "source": [
    "# Problem 2: Area\n",
    "- Write a function named **calculate_circle_area** that takes **radius** as an argument.\n",
    "- This function should use that radius to calculate the area of a circle with that radius and return this value.\n",
    "- Hint: you will need to import either the math or numpy library to get the value of π!"
   ]
  },
  {
   "cell_type": "code",
   "execution_count": 22,
   "metadata": {},
   "outputs": [
    {
     "name": "stdout",
     "output_type": "stream",
     "text": [
      "Area of Circle with a Radius of 5 = 78.53981633974483\n"
     ]
    }
   ],
   "source": [
    "import math\n",
    "\n",
    "def calculate_circle_area(radius):\n",
    "    area = math.pi*radius**2\n",
    "    return area\n",
    "\n",
    "print('Area of Circle with a Radius of 5 =', calculate_circle_area(5))"
   ]
  },
  {
   "cell_type": "markdown",
   "metadata": {},
   "source": [
    "# Problem 3: Word Search\n",
    "- Write a function named **letter_word_search** that takes a string text and a char letter as arguments\n",
    "- This function should search text for all words that begin with letter and should return these values in a list\n",
    "    - Bonus: Check whether letter consists of a single character rather than a number or multi-character string!"
   ]
  },
  {
   "cell_type": "code",
   "execution_count": 23,
   "metadata": {},
   "outputs": [],
   "source": [
    "words = ['Lorem', 'ipsum', 'dolor', 'sit', 'amet', 'consectetur', 'adipiscing', 'elit']"
   ]
  },
  {
   "cell_type": "code",
   "execution_count": 24,
   "metadata": {},
   "outputs": [],
   "source": [
    "def letter_word_search(name_list, letter):\n",
    "    output_list = []\n",
    "    for name in name_list:\n",
    "        if name[0] == letter:\n",
    "            output_list.append(name)\n",
    "            \n",
    "    return output_list"
   ]
  },
  {
   "cell_type": "code",
   "execution_count": 25,
   "metadata": {
    "scrolled": true
   },
   "outputs": [
    {
     "data": {
      "text/plain": [
       "['amet', 'adipiscing']"
      ]
     },
     "execution_count": 25,
     "metadata": {},
     "output_type": "execute_result"
    }
   ],
   "source": [
    "letter_word_search(words, 'a')"
   ]
  },
  {
   "cell_type": "markdown",
   "metadata": {},
   "source": [
    "# Problem 4: Number Guessing Game\n",
    "- Write a function named **number_guessing_game** that selects a random number target between **0 and 36 (inclusive)**.\n",
    "- This function should then prompt the user for input guess with the statement, “I’m thinking of a number between 0 and 36. Can you guess what it is?” \n",
    "- The user’s input guess should be compared to the target. If they guessed correctly, the program should print, “You guessed <guess>. My number was <target>. Congrats!” to terminal.\n",
    "- If they guessed incorrectly, the function should print, “You guessed <guess>. My number was <target>. Sorry, try again!”!"
   ]
  },
  {
   "cell_type": "code",
   "execution_count": 27,
   "metadata": {},
   "outputs": [],
   "source": [
    "import random\n",
    "\n",
    "def guess_number(a, b):\n",
    "    target = random.randint(a,b)\n",
    "    guess = input(\"I'm thinking of a number between \" + str(a) + \" and \" + str(b) + \".\" + \" Can you guess what it is?\" )\n",
    "    if (str(target) == guess):\n",
    "        print(\"You guessed \" + str(guess) + \". My number was \" + str(target) + \". Congrats!\")\n",
    "        return True\n",
    "    else:\n",
    "        print(\"You guessed \" + str(guess)+ \". My number was \" + str(target)+ \". Sorry, try again!\")\n",
    "        return False"
   ]
  },
  {
   "cell_type": "code",
   "execution_count": 28,
   "metadata": {},
   "outputs": [
    {
     "name": "stdout",
     "output_type": "stream",
     "text": [
      "I'm thinking of a number between 0 and 36. Can you guess what it is?7\n",
      "You guessed 7. My number was 16. Sorry, try again!\n"
     ]
    }
   ],
   "source": [
    "correct = guess_number(0,36)"
   ]
  },
  {
   "cell_type": "markdown",
   "metadata": {},
   "source": [
    "### Problem 5: Approximating π\n",
    "- The value of pi can be calculated using a Monte Carlo simulation by **randomly** n points within a unit square (i.e. a square with side length = 1) and by determining whether those points would land within an inscribed unit circle (i.e. a circle with diameter = 1; see illustration).\n",
    "- Given the relationship between the area of a unit square (1) and the area of a unit circle (π/4 ), we know that: **π=4*  (number of points falling within circle)/n**\n",
    "- Write a function named **simulate_pi** that takes an integer n as an argument. This function should randomly select n points within a unit square (i.e. x and y coordinates between 0 and 1).\n",
    "- This function should then count the number of points that fall within the circle (i.e. the distance between the center of the circle (0.5, 0.5) and the randomly selected point ≤ 0.5).\n",
    "- The function should return an estimation of π using the equation given above."
   ]
  },
  {
   "cell_type": "code",
   "execution_count": 29,
   "metadata": {},
   "outputs": [],
   "source": [
    "import random\n",
    "import math\n",
    "#length = 1; diameter = 1\n",
    "#π=4* (number of points falling within circle)/n\n",
    "#fxn: simulate_pi = random select 0,1\n",
    "def simulate_pi(n):\n",
    "    count = 0 \n",
    "    for i in range(0,n):\n",
    "        x = random.random()\n",
    "        y = random.random()\n",
    "        d = math.dist([x,y],[0.5,0.5])\n",
    "        if(d <= 0.5):\n",
    "            count = count + 1\n",
    "    return 4*count/n"
   ]
  },
  {
   "cell_type": "code",
   "execution_count": 32,
   "metadata": {},
   "outputs": [
    {
     "name": "stdout",
     "output_type": "stream",
     "text": [
      "Here is an estimate of π: 3.13266\n"
     ]
    }
   ],
   "source": [
    "print('Here is an estimate of π:', simulate_pi(200000))"
   ]
  },
  {
   "cell_type": "markdown",
   "metadata": {},
   "source": [
    "****"
   ]
  }
 ],
 "metadata": {
  "kernelspec": {
   "display_name": "Python 3",
   "language": "python",
   "name": "python3"
  },
  "language_info": {
   "codemirror_mode": {
    "name": "ipython",
    "version": 3
   },
   "file_extension": ".py",
   "mimetype": "text/x-python",
   "name": "python",
   "nbconvert_exporter": "python",
   "pygments_lexer": "ipython3",
   "version": "3.8.5"
  }
 },
 "nbformat": 4,
 "nbformat_minor": 4
}
